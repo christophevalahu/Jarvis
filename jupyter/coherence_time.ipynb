{
 "cells": [
  {
   "cell_type": "code",
   "execution_count": 1,
   "metadata": {},
   "outputs": [],
   "source": [
    "import numpy as np\n",
    "import matplotlib.pyplot as plt\n",
    "import csv\n",
    "import ast\n",
    "import json\n",
    "from scipy.optimize import curve_fit"
   ]
  },
  {
   "cell_type": "code",
   "execution_count": 14,
   "metadata": {},
   "outputs": [],
   "source": [
    "def grab_data(date, file) :\n",
    "    file_name = file + '_PROB_' + date + '.csv'\n",
    "\n",
    "    DATA_FILE_PATH = \"C:/Users/LABadmin/Documents/Jarvis/data\"\n",
    "\n",
    "    with open(DATA_FILE_PATH + '/' + date + '/' + file_name, newline='') as f:\n",
    "        lis = [line.split() for line in f]        # create a list of lists\n",
    "\n",
    "    dic = ''\n",
    "    for string in lis[0] :\n",
    "        dic = dic  + string\n",
    "    dic = dic.replace(\"\\\"\\\"\", \"'\")\n",
    "    dic = eval(ast.literal_eval(dic))\n",
    "\n",
    "    probs = np.array(eval(str(lis[2]).replace('\\'', '')))/100\n",
    "    \n",
    "    nsteps = dic['steps']\n",
    "\n",
    "    phases = np.arange(dic['det'], dic['det'] + len(probs)*dic['step'], dic['step'])\n",
    "   \n",
    "    return phases, probs"
   ]
  },
  {
   "cell_type": "code",
   "execution_count": 32,
   "metadata": {},
   "outputs": [],
   "source": [
    "def compute_ramsey_amps(date, filelist, plot = False) :\n",
    "  \n",
    "    phases = []\n",
    "    probs = []\n",
    "    phases, probs = grab_data(date, file)\n",
    "\n",
    "\n",
    "    def Ramsey(phi, phi0, A) :\n",
    "        return A/2*np.sin(phi + phi0) + 0.5\n",
    " \n",
    "    ini_fit = [0, 1]\n",
    "    popt, pcov = curve_fit(Ramsey, phases, probs,ini_fit, bounds = [[0, 0],[2*np.pi, 1]])\n",
    "    phi0fit = popt[0]\n",
    "    Afit = popt[1]\n",
    "    \n",
    "    if plot :\n",
    "\n",
    "        phase_plot = np.linspace(0, 2*np.pi, 1000)\n",
    "        plt.plot(phase_plot, Ramsey(phase_plot, phi0fit, A0fit))\n",
    "        plt.scatter(phases, probs)\n",
    "        \n",
    "    return phi0fit, Afit"
   ]
  },
  {
   "cell_type": "code",
   "execution_count": 67,
   "metadata": {},
   "outputs": [],
   "source": [
    "date = '201005'\n",
    "filelist = ['009', '010', '011', '012', '013', '014']\n",
    "delaylist = np.array([0, 500, 100, 200, 300, 400])*1e-6\n",
    "\n",
    "Alist = []\n",
    "phi0list = []\n",
    "\n",
    "for file in filelist :\n",
    "    phi0, A = compute_ramsey_amps(date, file)\n",
    "    phi0list = np.append(phi0list, phi0)\n",
    "    Alist = np.append(Alist, A)"
   ]
  },
  {
   "cell_type": "code",
   "execution_count": 87,
   "metadata": {},
   "outputs": [
    {
     "data": {
      "text/plain": [
       "(array([0. , 0.2, 0.4, 0.6, 0.8, 1. , 1.2]),\n",
       " <a list of 7 Text yticklabel objects>)"
      ]
     },
     "execution_count": 87,
     "metadata": {},
     "output_type": "execute_result"
    },
    {
     "data": {
      "image/png": "[encoded data removed]",
      "text/plain": [
       "<Figure size 432x288 with 1 Axes>"
      ]
     },
     "metadata": {
      "needs_background": "light"
     },
     "output_type": "display_data"
    }
   ],
   "source": [
    "def ramsey_decay(t, sz) :\n",
    "    return np.exp(- 0.5 * sz**2 * t**2)\n",
    "\n",
    "popt, pcov = curve_fit(ramsey_decay, delaylist, Alist, [1e3], bounds = [[0],[1e6]])\n",
    "\n",
    "szfit = popt[0]\n",
    "\n",
    "t_plot = np.linspace(0, np.max(delaylist), 1000)\n",
    "plt.plot(1e6*t_plot, ramsey_decay(t_plot, szfit))\n",
    "plt.scatter(1e6*delaylist, Alist)\n",
    "plt.xlabel(r'Time [$\\mu$s]', fontsize = 14)\n",
    "plt.ylabel(r'Amplitude', fontsize = 14)\n",
    "plt.text(300, 0.8, r'$\\sigma_z/2\\pi = $' + '%.1f'%(szfit/(2*np.pi)) + r' Hz', fontsize = 14)\n",
    "plt.xticks(fontsize = 12)\n",
    "plt.yticks(fontsize = 12)"
   ]
  },
  {
   "cell_type": "raw",
   "metadata": {},
   "source": []
  }
 ],
 "metadata": {
  "kernelspec": {
   "display_name": "Python 3",
   "language": "python",
   "name": "python3"
  },
  "language_info": {
   "codemirror_mode": {
    "name": "ipython",
    "version": 3
   },
   "file_extension": ".py",
   "mimetype": "text/x-python",
   "name": "python",
   "nbconvert_exporter": "python",
   "pygments_lexer": "ipython3",
   "version": "3.7.6"
  }
 },
 "nbformat": 4,
 "nbformat_minor": 4
}
